{
 "cells": [
  {
   "cell_type": "markdown",
   "id": "8eca48a9-7ada-4f76-947d-5e785a87331c",
   "metadata": {},
   "source": [
    "# This ipynd tabulates the study credits for study modules from Aalto University in ascending order"
   ]
  },
  {
   "cell_type": "code",
   "execution_count": 1,
   "id": "9bd21410-bbd9-4e30-9efc-9013a422c3e8",
   "metadata": {},
   "outputs": [],
   "source": [
    "import pandas as pd\n",
    "import time\n",
    "from selenium import webdriver\n",
    "from webdriver_manager.chrome import ChromeDriverManager\n",
    "from selenium.webdriver.chrome.service import Service\n",
    "from selenium.webdriver.common.by import By"
   ]
  },
  {
   "cell_type": "markdown",
   "id": "1ff3aae3-c269-41a1-af0a-c5a6dcec6a3b",
   "metadata": {},
   "source": [
    "# Initializing webdriver and web page"
   ]
  },
  {
   "cell_type": "code",
   "execution_count": 2,
   "id": "ef29c6df-608e-4ce7-9a86-6d5f880f98d0",
   "metadata": {},
   "outputs": [],
   "source": [
    "option = webdriver.ChromeOptions()\n",
    "option.add_argument(\"start-minimized\")\n",
    "driver = webdriver.Chrome(service=Service(ChromeDriverManager().install()),options=option)\n",
    "driver.get('https://www.aalto.fi/fi/sivuaineet#/')"
   ]
  },
  {
   "cell_type": "code",
   "execution_count": 3,
   "id": "44a2fae3-d1fd-4790-b0f9-514ae5cf28f5",
   "metadata": {},
   "outputs": [],
   "source": [
    "driver.find_element(By.XPATH, \"//button[text()='Kiellä kaikki']\").click()"
   ]
  },
  {
   "cell_type": "markdown",
   "id": "2639c04c-637d-48f5-8d05-46a599fa1e79",
   "metadata": {},
   "source": [
    "# Finding the Finnish module links"
   ]
  },
  {
   "cell_type": "code",
   "execution_count": 4,
   "id": "94c2f5c5-bcec-4a0d-902b-13a22da3ca92",
   "metadata": {},
   "outputs": [],
   "source": [
    "parent_elements = driver.find_elements(By.CLASS_NAME, \"hub-listing__results__group\")"
   ]
  },
  {
   "cell_type": "code",
   "execution_count": 5,
   "id": "9386bcff-5517-413b-82a1-4616c89c2a55",
   "metadata": {},
   "outputs": [],
   "source": [
    "links_finnish = []\n",
    "for element in parent_elements:\n",
    "    child_elements = element.find_elements(By.XPATH, \".//*\")\n",
    "    links_finnish.append(child_elements[0].get_attribute(\"href\"))"
   ]
  },
  {
   "cell_type": "code",
   "execution_count": 6,
   "id": "1eeb41c1-6f71-4539-9e84-8982ec66f9a9",
   "metadata": {},
   "outputs": [
    {
     "name": "stdout",
     "output_type": "stream",
     "text": [
      "MODULE LINK COUNT: 191\n"
     ]
    }
   ],
   "source": [
    "print(f\"MODULE LINK COUNT: {len(links_finnish)}\")"
   ]
  },
  {
   "cell_type": "markdown",
   "id": "12a51ada-0d9d-436e-8358-dc35a9ee2412",
   "metadata": {},
   "source": [
    "# Fetch module name and credits for each Finnish module"
   ]
  },
  {
   "cell_type": "code",
   "execution_count": 7,
   "id": "5dfde275-5db4-4f6a-88a3-7a7869b723f8",
   "metadata": {},
   "outputs": [],
   "source": [
    "modules_finnish = []\n",
    "for link in links_finnish:\n",
    "    driver.get(link)\n",
    "    module_name = driver.find_element(By.XPATH, \"//h1[contains(text(), *)]\").text\n",
    "    try:\n",
    "        find_credits = driver.find_element(By.XPATH, \"//*[contains(text(), 'ECTS')]\")\n",
    "        module_credits = find_credits.text\n",
    "    except:\n",
    "        module_credits = None\n",
    "        \n",
    "    modules_finnish.append({\"Module name\": module_name, \"ECTS\": module_credits})"
   ]
  },
  {
   "cell_type": "code",
   "execution_count": 8,
   "id": "9a38cff0-6db1-466d-8c12-e208fb7b7c4b",
   "metadata": {},
   "outputs": [],
   "source": [
    "modules_finnish = [module for module in modules_finnish if module[\"ECTS\"] is not None]"
   ]
  },
  {
   "cell_type": "code",
   "execution_count": 9,
   "id": "37106aa2-052d-43b6-b4f6-ad9f4bff4fc4",
   "metadata": {},
   "outputs": [
    {
     "name": "stdout",
     "output_type": "stream",
     "text": [
      "FINNISH MODULE COUNT: 69\n"
     ]
    }
   ],
   "source": [
    "print(f\"FINNISH MODULE COUNT: {len(modules_finnish)}\")"
   ]
  },
  {
   "cell_type": "markdown",
   "id": "f883b941-699a-4955-921e-276e2a59057d",
   "metadata": {},
   "source": [
    "# Doing the same but for modules in English"
   ]
  },
  {
   "cell_type": "code",
   "execution_count": 10,
   "id": "c51beb04-d950-4afe-8662-fc4d616320e6",
   "metadata": {},
   "outputs": [],
   "source": [
    "driver.get(\"https://www.aalto.fi/en/minors#/\")"
   ]
  },
  {
   "cell_type": "code",
   "execution_count": 11,
   "id": "1d268cd6-d961-430f-93b5-e3c8a4a9819a",
   "metadata": {},
   "outputs": [],
   "source": [
    "parent_elements = driver.find_elements(By.CLASS_NAME, \"hub-listing__results__group\")"
   ]
  },
  {
   "cell_type": "code",
   "execution_count": 12,
   "id": "c7767ed3-b234-4b4b-ba67-dc088f6a172b",
   "metadata": {},
   "outputs": [],
   "source": [
    "links_english = []\n",
    "for element in parent_elements:\n",
    "    child_elements = element.find_elements(By.XPATH, \".//*\")\n",
    "    links_english.append(child_elements[0].get_attribute(\"href\"))"
   ]
  },
  {
   "cell_type": "code",
   "execution_count": 13,
   "id": "6dc72061-f0e0-4ea1-b9d0-0026ad5e3497",
   "metadata": {},
   "outputs": [
    {
     "name": "stdout",
     "output_type": "stream",
     "text": [
      "MODULE LINK COUNT: 191\n"
     ]
    }
   ],
   "source": [
    "print(f\"MODULE LINK COUNT: {len(links_english)}\")"
   ]
  },
  {
   "cell_type": "code",
   "execution_count": 14,
   "id": "970d78b6-8c4a-460e-b60d-02a50fa4edbd",
   "metadata": {},
   "outputs": [],
   "source": [
    "modules_english = []\n",
    "for link in links_english:\n",
    "    driver.get(link)\n",
    "    module_name = driver.find_element(By.XPATH, \"//h1[contains(text(), *)]\").text\n",
    "    try:\n",
    "        find_credits = driver.find_element(By.XPATH, \"//*[contains(text(), 'ECTS')]\")\n",
    "        module_credits = find_credits.text\n",
    "    except:\n",
    "        module_credits = None\n",
    "        \n",
    "    modules_english.append({\"Module name\": module_name, \"ECTS\": module_credits})"
   ]
  },
  {
   "cell_type": "code",
   "execution_count": 15,
   "id": "2653b396-6594-4a9f-b107-8cfb552c3b39",
   "metadata": {},
   "outputs": [],
   "source": [
    "modules_english = [module for module in modules_english if module[\"ECTS\"] is not None]"
   ]
  },
  {
   "cell_type": "code",
   "execution_count": 16,
   "id": "90b798ad-8303-40b9-80b9-3f510f937750",
   "metadata": {},
   "outputs": [
    {
     "name": "stdout",
     "output_type": "stream",
     "text": [
      "ENGLISH MODULE COUNT: 147\n"
     ]
    }
   ],
   "source": [
    "print(f\"ENGLISH MODULE COUNT: {len(modules_english)}\")"
   ]
  },
  {
   "cell_type": "markdown",
   "id": "dc4c45ce-94f9-42c4-b745-4efac8dfa0d4",
   "metadata": {},
   "source": [
    "# Sort modules by second item "
   ]
  },
  {
   "cell_type": "code",
   "execution_count": 17,
   "id": "8770c19d-1680-4800-ad0f-614a339e7a55",
   "metadata": {},
   "outputs": [],
   "source": [
    "modules = modules_finnish + modules_english"
   ]
  },
  {
   "cell_type": "code",
   "execution_count": 18,
   "id": "cbba77c5-0750-4f0f-9cab-e4f57f606076",
   "metadata": {},
   "outputs": [],
   "source": [
    "sorted_modules = sorted(modules, key=lambda module: module[\"ECTS\"])"
   ]
  },
  {
   "cell_type": "markdown",
   "id": "007ca0d0-61f3-4a11-8bae-7745c1eba8a5",
   "metadata": {},
   "source": [
    "# Converting to pandas dataframe"
   ]
  },
  {
   "cell_type": "code",
   "execution_count": 19,
   "id": "f88329e2-c826-49dd-b29e-e7aef4048b8c",
   "metadata": {},
   "outputs": [],
   "source": [
    "modules_df = pd.DataFrame(sorted_modules)"
   ]
  },
  {
   "cell_type": "code",
   "execution_count": 20,
   "id": "fba7492a-d6ac-4585-9932-802d96404ca2",
   "metadata": {},
   "outputs": [
    {
     "data": {
      "text/html": [
       "<div>\n",
       "<style scoped>\n",
       "    .dataframe tbody tr th:only-of-type {\n",
       "        vertical-align: middle;\n",
       "    }\n",
       "\n",
       "    .dataframe tbody tr th {\n",
       "        vertical-align: top;\n",
       "    }\n",
       "\n",
       "    .dataframe thead th {\n",
       "        text-align: right;\n",
       "    }\n",
       "</style>\n",
       "<table border=\"1\" class=\"dataframe\">\n",
       "  <thead>\n",
       "    <tr style=\"text-align: right;\">\n",
       "      <th></th>\n",
       "      <th>Module name</th>\n",
       "      <th>ECTS</th>\n",
       "    </tr>\n",
       "  </thead>\n",
       "  <tbody>\n",
       "    <tr>\n",
       "      <th>0</th>\n",
       "      <td>Biomass Refining (minor)</td>\n",
       "      <td></td>\n",
       "    </tr>\n",
       "    <tr>\n",
       "      <th>1</th>\n",
       "      <td>MEDes - Master of European Design</td>\n",
       "      <td>120 ECTS</td>\n",
       "    </tr>\n",
       "    <tr>\n",
       "      <th>2</th>\n",
       "      <td>Nordic Visual Studies and Art Education</td>\n",
       "      <td>15 ECTS</td>\n",
       "    </tr>\n",
       "    <tr>\n",
       "      <th>3</th>\n",
       "      <td>Arkkitehtuurin historia ja teoria (sivuaine)</td>\n",
       "      <td>15–25 ECTS</td>\n",
       "    </tr>\n",
       "    <tr>\n",
       "      <th>4</th>\n",
       "      <td>Elokuvaleikkaus</td>\n",
       "      <td>15–25 ECTS</td>\n",
       "    </tr>\n",
       "    <tr>\n",
       "      <th>...</th>\n",
       "      <td>...</td>\n",
       "      <td>...</td>\n",
       "    </tr>\n",
       "    <tr>\n",
       "      <th>211</th>\n",
       "      <td>International minor, only for ENG master students</td>\n",
       "      <td>25–30 ECTS</td>\n",
       "    </tr>\n",
       "    <tr>\n",
       "      <th>212</th>\n",
       "      <td>Valtakunnallinen liiketoimintaosaamisen sivuai...</td>\n",
       "      <td>25–40 ECTS</td>\n",
       "    </tr>\n",
       "    <tr>\n",
       "      <th>213</th>\n",
       "      <td>Innovation and Entrepreneurship for Urban Mobi...</td>\n",
       "      <td>30 ECTS</td>\n",
       "    </tr>\n",
       "    <tr>\n",
       "      <th>214</th>\n",
       "      <td>ME310 Aalto - Global Innovation Program</td>\n",
       "      <td>30 ECTS</td>\n",
       "    </tr>\n",
       "    <tr>\n",
       "      <th>215</th>\n",
       "      <td>Kuvataidekasvatus</td>\n",
       "      <td>35–60 ECTS</td>\n",
       "    </tr>\n",
       "  </tbody>\n",
       "</table>\n",
       "<p>216 rows × 2 columns</p>\n",
       "</div>"
      ],
      "text/plain": [
       "                                           Module name        ECTS\n",
       "0                             Biomass Refining (minor)            \n",
       "1                    MEDes - Master of European Design    120 ECTS\n",
       "2              Nordic Visual Studies and Art Education     15 ECTS\n",
       "3         Arkkitehtuurin historia ja teoria (sivuaine)  15–25 ECTS\n",
       "4                                      Elokuvaleikkaus  15–25 ECTS\n",
       "..                                                 ...         ...\n",
       "211  International minor, only for ENG master students  25–30 ECTS\n",
       "212  Valtakunnallinen liiketoimintaosaamisen sivuai...  25–40 ECTS\n",
       "213  Innovation and Entrepreneurship for Urban Mobi...     30 ECTS\n",
       "214            ME310 Aalto - Global Innovation Program     30 ECTS\n",
       "215                                  Kuvataidekasvatus  35–60 ECTS\n",
       "\n",
       "[216 rows x 2 columns]"
      ]
     },
     "execution_count": 20,
     "metadata": {},
     "output_type": "execute_result"
    }
   ],
   "source": [
    "modules_df"
   ]
  },
  {
   "cell_type": "markdown",
   "id": "a6774b0d-c105-450f-9e44-79892d3eee9c",
   "metadata": {},
   "source": [
    "# Creating an Excel spreadsheet"
   ]
  },
  {
   "cell_type": "code",
   "execution_count": 24,
   "id": "6cfc789b-0c6e-4ed5-9cd7-562eed14768b",
   "metadata": {},
   "outputs": [],
   "source": [
    "modules_df.to_excel('example.xlsx', index=True)"
   ]
  }
 ],
 "metadata": {
  "kernelspec": {
   "display_name": "Python 3 (ipykernel)",
   "language": "python",
   "name": "python3"
  },
  "language_info": {
   "codemirror_mode": {
    "name": "ipython",
    "version": 3
   },
   "file_extension": ".py",
   "mimetype": "text/x-python",
   "name": "python",
   "nbconvert_exporter": "python",
   "pygments_lexer": "ipython3",
   "version": "3.11.2"
  }
 },
 "nbformat": 4,
 "nbformat_minor": 5
}
